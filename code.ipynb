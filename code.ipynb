{
  "nbformat": 4,
  "nbformat_minor": 0,
  "metadata": {
    "colab": {
      "name": "Untitled38.ipynb",
      "provenance": [],
      "collapsed_sections": []
    },
    "kernelspec": {
      "name": "python3",
      "display_name": "Python 3"
    },
    "language_info": {
      "name": "python"
    }
  },
  "cells": [
    {
      "cell_type": "code",
      "source": [
        "def NumberCheck(a):   \n",
        "    # Checking if the number is positive  \n",
        "    if a > 0:   \n",
        "        print(\"Number given by you is Positive\")   \n",
        "    # Checking if the number is negative   \n",
        "    elif a < 0:   \n",
        "        print(\"Number given by you is Negative\")   \n",
        "    # Else the number is zero  \n",
        "    else:   \n",
        "        print(\"Number given by you is zero\")  \n",
        "# Taking number from user  \n",
        "a = float(input(\"Enter a number as input value: \"))  \n",
        "# Printing result  \n",
        "NumberCheck(a)  "
      ],
      "metadata": {
        "id": "CfNeWGAfXF3M"
      },
      "execution_count": null,
      "outputs": []
    }
  ]
}